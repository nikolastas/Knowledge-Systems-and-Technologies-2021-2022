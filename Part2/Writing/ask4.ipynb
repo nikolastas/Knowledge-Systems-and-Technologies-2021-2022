{
 "cells": [
  {
   "cell_type": "code",
   "execution_count": 1,
   "metadata": {},
   "outputs": [
    {
     "data": {
      "text/plain": [
       "<Graph identifier=N548222f158374b71af26f171d066c250 (<class 'rdflib.graph.Graph'>)>"
      ]
     },
     "execution_count": 1,
     "metadata": {},
     "output_type": "execute_result"
    }
   ],
   "source": [
    "import rdflib \n",
    "\n",
    "g = rdflib.Graph()\n",
    "\n",
    "g.parse(\"diamentions.nt\", format=\"nt\")"
   ]
  },
  {
   "cell_type": "code",
   "execution_count": null,
   "metadata": {},
   "outputs": [],
   "source": [
    "# <http://example.org/resource/1> <http://www.w3.org/1999/02/22-rdf-syntax-ns#type> <http://example.org/ontology/Object> . \n",
    "# <http://example.org/resource/1> <http://example.org/ontology/widthInCm> \"185\"^^<http://www.w3.org/2001/XMLSchema#int> .\n",
    "# <http://example.org/resource/1> <http://example.org/ontology/depthInCm> \"125\"^^<http://www.w3.org/2001/XMLSchema#int> .\n",
    "# <http://example.org/resource/1> <http://example.org/ontology/hasPart> <http://example.org/resource/2> .\n",
    "# <http://example.org/resource/1> <http://example.org/ontology/hasPart> <http://example.org/resource/3> .\n",
    "# <http://example.org/resource/1> <http://example.org/ontology/hasPart> <http://example.org/resource/4> .\n",
    "# <http://example.org/resource/1> <http://example.org/ontology/hasPart> <http://example.org/resource/5> .\n",
    "# <http://example.org/resource/1> <http://example.org/ontology/hasPart> <http://example.org/resource/6> ."
   ]
  },
  {
   "cell_type": "code",
   "execution_count": 7,
   "metadata": {},
   "outputs": [
    {
     "data": {
      "text/plain": [
       "<Graph identifier=N548222f158374b71af26f171d066c250 (<class 'rdflib.graph.Graph'>)>"
      ]
     },
     "execution_count": 7,
     "metadata": {},
     "output_type": "execute_result"
    }
   ],
   "source": [
    "ans=g.query(\n",
    "    \"\"\"\n",
    "      PREFIX exo: <http://example.org/ontology/>\n",
    "      PREFIX exr: <http://example.org/resource/>\n",
    "      \n",
    "      CONSTRUCT {\n",
    "        ?name_object exo:Parts ?number_of_parts .\n",
    "        ?name_object exo:area (?width) .\n",
    "        }\n",
    "       WHERE {\n",
    "            {\n",
    "            SELECT ?name_object ?width ?depth (COUNT (?part) AS ?number_of_parts) WHERE {\n",
    "            ?name_object ?b exo:Object.\n",
    "            ?name_object exo:widthInCm ?width.\n",
    "            ?name_object exo:depthInCm ?depth.\n",
    "            # has at least 3 parts\n",
    "            ?name_object exo:hasPart ?part.\n",
    "            }\n",
    "            }\n",
    "            FILTER (?number_of_parts >= 3).\n",
    "            \n",
    "\n",
    "       }\"\"\")\n",
    "# for a in ans:\n",
    "#   print(\"Object:\", a.name_object, \"Width:\", a.width, \"Depth:\", a.depth, \"Number of parts:\", a[3])\n",
    "g.serialize(\"diamentions2.nt\", format=\"nt\", encoding=\"utf-8\")"
   ]
  }
 ],
 "metadata": {
  "kernelspec": {
   "display_name": "Python 3.10.4 64-bit",
   "language": "python",
   "name": "python3"
  },
  "language_info": {
   "codemirror_mode": {
    "name": "ipython",
    "version": 3
   },
   "file_extension": ".py",
   "mimetype": "text/x-python",
   "name": "python",
   "nbconvert_exporter": "python",
   "pygments_lexer": "ipython3",
   "version": "3.10.4"
  },
  "orig_nbformat": 4,
  "vscode": {
   "interpreter": {
    "hash": "26de051ba29f2982a8de78e945f0abaf191376122a1563185a90213a26c5da77"
   }
  }
 },
 "nbformat": 4,
 "nbformat_minor": 2
}
